{
  "cells": [
    {
      "cell_type": "markdown",
      "metadata": {},
      "source": [
        "# Introduction\n",
        "\n",
        "This is a book created from markdown and executable code.\n",
        "\n",
        "See @knuth84 for additional discussion of literate programming.\n",
        "\n",
        "I have `r a` apple, and my friend has `r b` apples. We have totally `r a+b` apples.\n"
      ],
      "id": "e25eca5f"
    },
    {
      "cell_type": "code",
      "metadata": {},
      "source": [
        "a = 1\n",
        "b = 2\n",
        "c = a + b"
      ],
      "id": "9fc8f5fd",
      "execution_count": null,
      "outputs": []
    }
  ],
  "metadata": {
    "kernelspec": {
      "name": "myenv",
      "language": "python",
      "display_name": "Python (myenv)"
    }
  },
  "nbformat": 4,
  "nbformat_minor": 5
}